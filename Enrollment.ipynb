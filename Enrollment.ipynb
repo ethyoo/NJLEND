{
 "cells": [
  {
   "attachments": {},
   "cell_type": "markdown",
   "metadata": {},
   "source": [
    "# Autism prevalence and Original Medicare enrollment over time (mid-2000s to late 2010s)"
   ]
  },
  {
   "cell_type": "code",
   "execution_count": 10,
   "metadata": {
    "vscode": {
     "languageId": "r"
    }
   },
   "outputs": [],
   "source": [
    "required_packages <- c(\"tidyverse\", \"scales\")\n",
    "new_packages <- required_packages[!(required_packages %in% installed.packages()[,\"Package\"])]\n",
    "if(length(new_packages)) install.packages(new_packages)"
   ]
  },
  {
   "cell_type": "code",
   "execution_count": 11,
   "metadata": {
    "vscode": {
     "languageId": "r"
    }
   },
   "outputs": [
    {
     "name": "stderr",
     "output_type": "stream",
     "text": [
      "\u001b[1mRows: \u001b[22m\u001b[34m12\u001b[39m \u001b[1mColumns: \u001b[22m\u001b[34m13\u001b[39m\n",
      "\u001b[36m──\u001b[39m \u001b[1mColumn specification\u001b[22m \u001b[36m────────────────────────────────────────────────────────\u001b[39m\n",
      "\u001b[1mDelimiter:\u001b[22m \",\"\n",
      "\u001b[31mchr\u001b[39m (6): Bene_Geo_Lvl, Bene_Geo_Desc, Bene_Age_Lvl, Bene_Demo_Lvl, Bene_Demo...\n",
      "\u001b[32mdbl\u001b[39m (6): Year, Prvlnc, Tot_Mdcr_Stdzd_Pymt_PC, Tot_Mdcr_Pymt_PC, Hosp_Readms...\n",
      "\u001b[33mlgl\u001b[39m (1): Bene_Geo_Cd\n",
      "\n",
      "\u001b[36mℹ\u001b[39m Use `spec()` to retrieve the full column specification for this data.\n",
      "\u001b[36mℹ\u001b[39m Specify the column types or set `show_col_types = FALSE` to quiet this message.\n",
      "\u001b[1mRows: \u001b[22m\u001b[34m19440\u001b[39m \u001b[1mColumns: \u001b[22m\u001b[34m13\u001b[39m\n",
      "\u001b[36m──\u001b[39m \u001b[1mColumn specification\u001b[22m \u001b[36m────────────────────────────────────────────────────────\u001b[39m\n",
      "\u001b[1mDelimiter:\u001b[22m \",\"\n",
      "\u001b[31mchr\u001b[39m (6): file, State, Bene_Age_Lvl, Bene_Demo_Lvl, Bene_Demo_Desc, Bene_Cond\n",
      "\u001b[32mdbl\u001b[39m (7): Year, Bene_Geo_Cd, Prvlnc, Tot_Mdcr_Stdzd_Pymt_PC, Tot_Mdcr_Pymt_PC...\n",
      "\n",
      "\u001b[36mℹ\u001b[39m Use `spec()` to retrieve the full column specification for this data.\n",
      "\u001b[36mℹ\u001b[39m Specify the column types or set `show_col_types = FALSE` to quiet this message.\n",
      "\u001b[1mRows: \u001b[22m\u001b[34m468\u001b[39m \u001b[1mColumns: \u001b[22m\u001b[34m3\u001b[39m\n",
      "\u001b[36m──\u001b[39m \u001b[1mColumn specification\u001b[22m \u001b[36m────────────────────────────────────────────────────────\u001b[39m\n",
      "\u001b[1mDelimiter:\u001b[22m \",\"\n",
      "\u001b[31mchr\u001b[39m (1): Area_of_Residence\n",
      "\u001b[32mdbl\u001b[39m (2): Total_Enrollment, Year\n",
      "\n",
      "\u001b[36mℹ\u001b[39m Use `spec()` to retrieve the full column specification for this data.\n",
      "\u001b[36mℹ\u001b[39m Specify the column types or set `show_col_types = FALSE` to quiet this message.\n"
     ]
    }
   ],
   "source": [
    "library(dplyr)\n",
    "library(ggplot2)\n",
    "library(readr)\n",
    "library(scales)\n",
    "library(tidyr)\n",
    "\n",
    "# Import data describing overall Medicare population nationally (contains national-level data from 2007 to 2018)\n",
    "national <- read_csv(\"./Data/Data related to autism (ASD) among Original Medicare beneficiaries by overall group - National, 2007 to 2018.csv\")\n",
    "# Import data describing overall Medicare population by state (contains state-level data from 2007 to 2018)\n",
    "data <- read_csv(\"./Data/Data related to autism (ASD) among Original Medicare beneficiaries by state, 2007 to 2018.csv\")\n",
    "\n",
    "# Import enrollment data (contains state and national-level data from 2013 to 2021)\n",
    "medicare <- read_csv(\"./Data/Total enrollment in Original Medicare (Part A and Part B) by area of residence, 2013 to 2021.csv\")\n",
    "\n",
    "# Don't use scientific notation\n",
    "options(\"scipen\"=100)"
   ]
  },
  {
   "cell_type": "code",
   "execution_count": 12,
   "metadata": {
    "vscode": {
     "languageId": "r"
    }
   },
   "outputs": [
    {
     "data": {
      "text/html": [
       "<table class=\"dataframe\">\n",
       "<caption>A data.frame: 6 × 4</caption>\n",
       "<thead>\n",
       "\t<tr><th scope=col>Year</th><th scope=col>Prevalence</th><th scope=col>Total_Enrollment</th><th scope=col>estimatedCount</th></tr>\n",
       "\t<tr><th scope=col>&lt;chr&gt;</th><th scope=col>&lt;dbl&gt;</th><th scope=col>&lt;dbl&gt;</th><th scope=col>&lt;dbl&gt;</th></tr>\n",
       "</thead>\n",
       "<tbody>\n",
       "\t<tr><td>2013</td><td>0.0015</td><td>32683237</td><td>49024.86</td></tr>\n",
       "\t<tr><td>2014</td><td>0.0017</td><td>32730481</td><td>55641.82</td></tr>\n",
       "\t<tr><td>2015</td><td>0.0019</td><td>32829277</td><td>62375.63</td></tr>\n",
       "\t<tr><td>2016</td><td>0.0021</td><td>33251934</td><td>69829.06</td></tr>\n",
       "\t<tr><td>2017</td><td>0.0024</td><td>33103075</td><td>79447.38</td></tr>\n",
       "\t<tr><td>2018</td><td>0.0026</td><td>32917866</td><td>85586.45</td></tr>\n",
       "</tbody>\n",
       "</table>\n"
      ],
      "text/latex": [
       "A data.frame: 6 × 4\n",
       "\\begin{tabular}{llll}\n",
       " Year & Prevalence & Total\\_Enrollment & estimatedCount\\\\\n",
       " <chr> & <dbl> & <dbl> & <dbl>\\\\\n",
       "\\hline\n",
       "\t 2013 & 0.0015 & 32683237 & 49024.86\\\\\n",
       "\t 2014 & 0.0017 & 32730481 & 55641.82\\\\\n",
       "\t 2015 & 0.0019 & 32829277 & 62375.63\\\\\n",
       "\t 2016 & 0.0021 & 33251934 & 69829.06\\\\\n",
       "\t 2017 & 0.0024 & 33103075 & 79447.38\\\\\n",
       "\t 2018 & 0.0026 & 32917866 & 85586.45\\\\\n",
       "\\end{tabular}\n"
      ],
      "text/markdown": [
       "\n",
       "A data.frame: 6 × 4\n",
       "\n",
       "| Year &lt;chr&gt; | Prevalence &lt;dbl&gt; | Total_Enrollment &lt;dbl&gt; | estimatedCount &lt;dbl&gt; |\n",
       "|---|---|---|---|\n",
       "| 2013 | 0.0015 | 32683237 | 49024.86 |\n",
       "| 2014 | 0.0017 | 32730481 | 55641.82 |\n",
       "| 2015 | 0.0019 | 32829277 | 62375.63 |\n",
       "| 2016 | 0.0021 | 33251934 | 69829.06 |\n",
       "| 2017 | 0.0024 | 33103075 | 79447.38 |\n",
       "| 2018 | 0.0026 | 32917866 | 85586.45 |\n",
       "\n"
      ],
      "text/plain": [
       "  Year Prevalence Total_Enrollment estimatedCount\n",
       "1 2013 0.0015     32683237         49024.86      \n",
       "2 2014 0.0017     32730481         55641.82      \n",
       "3 2015 0.0019     32829277         62375.63      \n",
       "4 2016 0.0021     33251934         69829.06      \n",
       "5 2017 0.0024     33103075         79447.38      \n",
       "6 2018 0.0026     32917866         85586.45      "
      ]
     },
     "metadata": {},
     "output_type": "display_data"
    },
    {
     "data": {
      "text/html": [
       "<table class=\"dataframe\">\n",
       "<caption>A data.frame: 6 × 4</caption>\n",
       "<thead>\n",
       "\t<tr><th scope=col>Year</th><th scope=col>Prevalence</th><th scope=col>Total_Enrollment</th><th scope=col>estimatedCount</th></tr>\n",
       "\t<tr><th scope=col>&lt;chr&gt;</th><th scope=col>&lt;dbl&gt;</th><th scope=col>&lt;dbl&gt;</th><th scope=col>&lt;dbl&gt;</th></tr>\n",
       "</thead>\n",
       "<tbody>\n",
       "\t<tr><td>2013</td><td>0.0020</td><td>1049338</td><td> 65366.47</td></tr>\n",
       "\t<tr><td>2014</td><td>0.0023</td><td>1083154</td><td> 75280.11</td></tr>\n",
       "\t<tr><td>2015</td><td>0.0025</td><td>1104477</td><td> 82073.19</td></tr>\n",
       "\t<tr><td>2016</td><td>0.0030</td><td>1105091</td><td> 99755.80</td></tr>\n",
       "\t<tr><td>2017</td><td>0.0033</td><td>1042780</td><td>109240.15</td></tr>\n",
       "\t<tr><td>2018</td><td>0.0035</td><td>1035766</td><td>115212.53</td></tr>\n",
       "</tbody>\n",
       "</table>\n"
      ],
      "text/latex": [
       "A data.frame: 6 × 4\n",
       "\\begin{tabular}{llll}\n",
       " Year & Prevalence & Total\\_Enrollment & estimatedCount\\\\\n",
       " <chr> & <dbl> & <dbl> & <dbl>\\\\\n",
       "\\hline\n",
       "\t 2013 & 0.0020 & 1049338 &  65366.47\\\\\n",
       "\t 2014 & 0.0023 & 1083154 &  75280.11\\\\\n",
       "\t 2015 & 0.0025 & 1104477 &  82073.19\\\\\n",
       "\t 2016 & 0.0030 & 1105091 &  99755.80\\\\\n",
       "\t 2017 & 0.0033 & 1042780 & 109240.15\\\\\n",
       "\t 2018 & 0.0035 & 1035766 & 115212.53\\\\\n",
       "\\end{tabular}\n"
      ],
      "text/markdown": [
       "\n",
       "A data.frame: 6 × 4\n",
       "\n",
       "| Year &lt;chr&gt; | Prevalence &lt;dbl&gt; | Total_Enrollment &lt;dbl&gt; | estimatedCount &lt;dbl&gt; |\n",
       "|---|---|---|---|\n",
       "| 2013 | 0.0020 | 1049338 |  65366.47 |\n",
       "| 2014 | 0.0023 | 1083154 |  75280.11 |\n",
       "| 2015 | 0.0025 | 1104477 |  82073.19 |\n",
       "| 2016 | 0.0030 | 1105091 |  99755.80 |\n",
       "| 2017 | 0.0033 | 1042780 | 109240.15 |\n",
       "| 2018 | 0.0035 | 1035766 | 115212.53 |\n",
       "\n"
      ],
      "text/plain": [
       "  Year Prevalence Total_Enrollment estimatedCount\n",
       "1 2013 0.0020     1049338           65366.47     \n",
       "2 2014 0.0023     1083154           75280.11     \n",
       "3 2015 0.0025     1104477           82073.19     \n",
       "4 2016 0.0030     1105091           99755.80     \n",
       "5 2017 0.0033     1042780          109240.15     \n",
       "6 2018 0.0035     1035766          115212.53     "
      ]
     },
     "metadata": {},
     "output_type": "display_data"
    },
    {
     "data": {
      "text/html": [
       "<table class=\"dataframe\">\n",
       "<caption>A tibble: 6 × 3</caption>\n",
       "<thead>\n",
       "\t<tr><th scope=col>Year</th><th scope=col>variable</th><th scope=col>value</th></tr>\n",
       "\t<tr><th scope=col>&lt;chr&gt;</th><th scope=col>&lt;chr&gt;</th><th scope=col>&lt;dbl&gt;</th></tr>\n",
       "</thead>\n",
       "<tbody>\n",
       "\t<tr><td>2013</td><td>Prevalence      </td><td>       0.0015</td></tr>\n",
       "\t<tr><td>2013</td><td>Total_Enrollment</td><td>32683237.0000</td></tr>\n",
       "\t<tr><td>2013</td><td>estimatedCount  </td><td>   49024.8555</td></tr>\n",
       "\t<tr><td>2014</td><td>Prevalence      </td><td>       0.0017</td></tr>\n",
       "\t<tr><td>2014</td><td>Total_Enrollment</td><td>32730481.0000</td></tr>\n",
       "\t<tr><td>2014</td><td>estimatedCount  </td><td>   55641.8177</td></tr>\n",
       "</tbody>\n",
       "</table>\n"
      ],
      "text/latex": [
       "A tibble: 6 × 3\n",
       "\\begin{tabular}{lll}\n",
       " Year & variable & value\\\\\n",
       " <chr> & <chr> & <dbl>\\\\\n",
       "\\hline\n",
       "\t 2013 & Prevalence       &        0.0015\\\\\n",
       "\t 2013 & Total\\_Enrollment & 32683237.0000\\\\\n",
       "\t 2013 & estimatedCount   &    49024.8555\\\\\n",
       "\t 2014 & Prevalence       &        0.0017\\\\\n",
       "\t 2014 & Total\\_Enrollment & 32730481.0000\\\\\n",
       "\t 2014 & estimatedCount   &    55641.8177\\\\\n",
       "\\end{tabular}\n"
      ],
      "text/markdown": [
       "\n",
       "A tibble: 6 × 3\n",
       "\n",
       "| Year &lt;chr&gt; | variable &lt;chr&gt; | value &lt;dbl&gt; |\n",
       "|---|---|---|\n",
       "| 2013 | Prevalence       |        0.0015 |\n",
       "| 2013 | Total_Enrollment | 32683237.0000 |\n",
       "| 2013 | estimatedCount   |    49024.8555 |\n",
       "| 2014 | Prevalence       |        0.0017 |\n",
       "| 2014 | Total_Enrollment | 32730481.0000 |\n",
       "| 2014 | estimatedCount   |    55641.8177 |\n",
       "\n"
      ],
      "text/plain": [
       "  Year variable         value        \n",
       "1 2013 Prevalence              0.0015\n",
       "2 2013 Total_Enrollment 32683237.0000\n",
       "3 2013 estimatedCount      49024.8555\n",
       "4 2014 Prevalence              0.0017\n",
       "5 2014 Total_Enrollment 32730481.0000\n",
       "6 2014 estimatedCount      55641.8177"
      ]
     },
     "metadata": {},
     "output_type": "display_data"
    },
    {
     "data": {
      "text/html": [
       "<table class=\"dataframe\">\n",
       "<caption>A tibble: 6 × 3</caption>\n",
       "<thead>\n",
       "\t<tr><th scope=col>Year</th><th scope=col>variable</th><th scope=col>value</th></tr>\n",
       "\t<tr><th scope=col>&lt;chr&gt;</th><th scope=col>&lt;chr&gt;</th><th scope=col>&lt;dbl&gt;</th></tr>\n",
       "</thead>\n",
       "<tbody>\n",
       "\t<tr><td>2013</td><td>Prevalence      </td><td>      0.0020</td></tr>\n",
       "\t<tr><td>2013</td><td>Total_Enrollment</td><td>1049338.0000</td></tr>\n",
       "\t<tr><td>2013</td><td>estimatedCount  </td><td>  65366.4740</td></tr>\n",
       "\t<tr><td>2014</td><td>Prevalence      </td><td>      0.0023</td></tr>\n",
       "\t<tr><td>2014</td><td>Total_Enrollment</td><td>1083154.0000</td></tr>\n",
       "\t<tr><td>2014</td><td>estimatedCount  </td><td>  75280.1063</td></tr>\n",
       "</tbody>\n",
       "</table>\n"
      ],
      "text/latex": [
       "A tibble: 6 × 3\n",
       "\\begin{tabular}{lll}\n",
       " Year & variable & value\\\\\n",
       " <chr> & <chr> & <dbl>\\\\\n",
       "\\hline\n",
       "\t 2013 & Prevalence       &       0.0020\\\\\n",
       "\t 2013 & Total\\_Enrollment & 1049338.0000\\\\\n",
       "\t 2013 & estimatedCount   &   65366.4740\\\\\n",
       "\t 2014 & Prevalence       &       0.0023\\\\\n",
       "\t 2014 & Total\\_Enrollment & 1083154.0000\\\\\n",
       "\t 2014 & estimatedCount   &   75280.1063\\\\\n",
       "\\end{tabular}\n"
      ],
      "text/markdown": [
       "\n",
       "A tibble: 6 × 3\n",
       "\n",
       "| Year &lt;chr&gt; | variable &lt;chr&gt; | value &lt;dbl&gt; |\n",
       "|---|---|---|\n",
       "| 2013 | Prevalence       |       0.0020 |\n",
       "| 2013 | Total_Enrollment | 1049338.0000 |\n",
       "| 2013 | estimatedCount   |   65366.4740 |\n",
       "| 2014 | Prevalence       |       0.0023 |\n",
       "| 2014 | Total_Enrollment | 1083154.0000 |\n",
       "| 2014 | estimatedCount   |   75280.1063 |\n",
       "\n"
      ],
      "text/plain": [
       "  Year variable         value       \n",
       "1 2013 Prevalence             0.0020\n",
       "2 2013 Total_Enrollment 1049338.0000\n",
       "3 2013 estimatedCount     65366.4740\n",
       "4 2014 Prevalence             0.0023\n",
       "5 2014 Total_Enrollment 1083154.0000\n",
       "6 2014 estimatedCount     75280.1063"
      ]
     },
     "metadata": {},
     "output_type": "display_data"
    }
   ],
   "source": [
    "# Select rows where data describes all beneficiaries\n",
    "data <- subset(data, data$Bene_Age_Lvl == \"All\" & data$Bene_Demo_Desc == \"All\")\n",
    "\n",
    "# Filter data on chronic conditions (nationally and New Jersey)\n",
    "filtered <- national[ , c(\"Year\", \"Prvlnc\")]\n",
    "names(filtered) <- c(\"Year\", \"Prevalence\")\n",
    "filtered$Year <- as.character(filtered$Year)\n",
    "\n",
    "state <- subset(data, data$State == \"New Jersey\")\n",
    "filteredState <- state[ , c(\"Year\", \"Prvlnc\")]\n",
    "names(filteredState) <- c(\"Year\", \"Prevalence\")\n",
    "filteredState$Year <- as.character(filteredState$Year)\n",
    "\n",
    "# Filter data on chronic conditions to the years for which we have enrollment data (i.e., 2013 to 2021)\n",
    "us <- subset(medicare, medicare$Area_of_Residence == \"United States\" & medicare$Year >= 2013 & filtered$Year <= 2021)\n",
    "us$Year <- as.character(us$Year)\n",
    "\n",
    "nj <- subset(medicare, medicare$Area_of_Residence == \"New Jersey\" & medicare$Year >= 2013 & filtered$Year <= 2021)\n",
    "nj$Year <- as.character(us$Year)\n",
    "\n",
    "# Merge rows with matching years\n",
    "merged <- merge(filtered, us, by = \"Year\")\n",
    "mergedNJ <- merge(filteredState, nj, by = \"Year\")\n",
    "\n",
    "# Get estimated absolute count: Prevalence * Total enrollment\n",
    "merged$estimatedCount <- merged$Prevalence * merged$Total_Enrollment\n",
    "mergedNJ$estimatedCount <- mergedNJ$Prevalence * merged$Total_Enrollment\n",
    "\n",
    "merged <- merged[ , c(\"Year\", \"Prevalence\", \"Total_Enrollment\", \"estimatedCount\")]\n",
    "mergedNJ <- mergedNJ[ , c(\"Year\", \"Prevalence\", \"Total_Enrollment\", \"estimatedCount\")]\n",
    "\n",
    "merged\n",
    "mergedNJ\n",
    "\n",
    "# Restructure the data frame\n",
    "\n",
    "long <- pivot_longer(merged, cols = -c(Year), names_to = \"variable\", values_to = \"value\")\n",
    "longNJ <- pivot_longer(mergedNJ, cols = -c(Year), names_to = \"variable\", values_to = \"value\")\n",
    "\n",
    "head(long)\n",
    "head(longNJ)"
   ]
  },
  {
   "cell_type": "code",
   "execution_count": 13,
   "metadata": {
    "vscode": {
     "languageId": "r"
    }
   },
   "outputs": [
    {
     "data": {
      "image/png": "[encoded data removed]",
      "text/plain": [
       "plot without title"
      ]
     },
     "metadata": {
      "image/png": {
       "height": 420,
       "width": 420
      }
     },
     "output_type": "display_data"
    }
   ],
   "source": [
    "# Create a bar chart for total enrollment in Original Medicare (Part A and Part B) from 2013 to 2021\n",
    "ggplot(data = us, aes(x = Year, y = Total_Enrollment)) +\n",
    "    geom_col(color = \"black\", fill = \"#F3E79A\") +\n",
    "    geom_text(aes(label = comma(Total_Enrollment)), color = \"black\", vjust = 1.5, size = 2.5) +\n",
    "    ylim(0, 36600000) +\n",
    "    ylab(\"Total Enrollment (Person-Year)\\n\") +\n",
    "    ggtitle(\"Total Enrollment in Original Medicare:\\nUnited States, 2013 to 2021\") +\n",
    "    theme(plot.title = element_text(hjust = 0.5), axis.text = element_text(color = \"black\"))"
   ]
  },
  {
   "cell_type": "code",
   "execution_count": 14,
   "metadata": {
    "vscode": {
     "languageId": "r"
    }
   },
   "outputs": [
    {
     "data": {
      "image/png": "[encoded data removed]",
      "text/plain": [
       "plot without title"
      ]
     },
     "metadata": {
      "image/png": {
       "height": 420,
       "width": 420
      }
     },
     "output_type": "display_data"
    }
   ],
   "source": [
    "# Create a bar chart for NJ-based enrollment in Original Medicare from 2013 to 2021\n",
    "ggplot(data = nj, aes(x = Year, y = Total_Enrollment)) +\n",
    "    geom_col(color = \"black\", fill = \"#F3E79A\") +\n",
    "    geom_text(aes(label = comma(Total_Enrollment)), color = \"black\", vjust = 1.5, size = 2.5) +\n",
    "    ylim(0, 1220000) +\n",
    "    ylab(\"Total Enrollment (Person-Year)\\n\") +\n",
    "    ggtitle(\"Total Enrollment in Original Medicare:\\nNew Jersey, 2013 to 2021\") +\n",
    "    theme(plot.title = element_text(hjust=0.5), axis.text = element_text(color = \"black\"))"
   ]
  },
  {
   "cell_type": "code",
   "execution_count": 15,
   "metadata": {
    "vscode": {
     "languageId": "r"
    }
   },
   "outputs": [
    {
     "data": {
      "image/png": "[encoded data removed]",
      "text/plain": [
       "plot without title"
      ]
     },
     "metadata": {
      "image/png": {
       "height": 420,
       "width": 420
      }
     },
     "output_type": "display_data"
    }
   ],
   "source": [
    "# Create a bar chart for estimated absolute counts of Original Medicare beneficiaries with autism\n",
    "ggplot(data = merged, aes(x = Year, y = estimatedCount)) +\n",
    "    geom_col(color=\"black\", fill = \"mediumpurple4\") +\n",
    "    geom_text(aes(label = comma(estimatedCount)), color=\"white\", vjust = 1.5, size = 2.5) +\n",
    "    ylim(0, 100000) +\n",
    "    ylab(\"Number of Beneficiaries\\n\") +\n",
    "    ggtitle(\"Estimated Count of Original Medicare Beneficiaries with Autism Spectrum Disorder:\\nUnited States, 2013 to 2018\") +\n",
    "    theme(plot.title = element_text(hjust=0.5), axis.text = element_text(color=\"black\"))"
   ]
  },
  {
   "attachments": {},
   "cell_type": "markdown",
   "metadata": {},
   "source": [
    "## Comparing change over time"
   ]
  },
  {
   "cell_type": "code",
   "execution_count": 16,
   "metadata": {
    "vscode": {
     "languageId": "r"
    }
   },
   "outputs": [
    {
     "data": {
      "text/html": [
       "<table class=\"dataframe\">\n",
       "<caption>A grouped_df: 24 × 5</caption>\n",
       "<thead>\n",
       "\t<tr><th scope=col>Year</th><th scope=col>variable</th><th scope=col>value</th><th scope=col>pctChg</th><th scope=col>group</th></tr>\n",
       "\t<tr><th scope=col>&lt;chr&gt;</th><th scope=col>&lt;chr&gt;</th><th scope=col>&lt;dbl&gt;</th><th scope=col>&lt;dbl&gt;</th><th scope=col>&lt;chr&gt;</th></tr>\n",
       "</thead>\n",
       "<tbody>\n",
       "\t<tr><td>2013</td><td>Prevalence      </td><td>       0.0015</td><td>         NA</td><td>Medicare beneficiaries: United States</td></tr>\n",
       "\t<tr><td>2013</td><td>Total_Enrollment</td><td>32683237.0000</td><td>         NA</td><td>Medicare beneficiaries: United States</td></tr>\n",
       "\t<tr><td>2014</td><td>Prevalence      </td><td>       0.0017</td><td>13.33333333</td><td>Medicare beneficiaries: United States</td></tr>\n",
       "\t<tr><td>2014</td><td>Total_Enrollment</td><td>32730481.0000</td><td> 0.14455117</td><td>Medicare beneficiaries: United States</td></tr>\n",
       "\t<tr><td>2015</td><td>Prevalence      </td><td>       0.0019</td><td>11.76470588</td><td>Medicare beneficiaries: United States</td></tr>\n",
       "\t<tr><td>2015</td><td>Total_Enrollment</td><td>32829277.0000</td><td> 0.30184708</td><td>Medicare beneficiaries: United States</td></tr>\n",
       "\t<tr><td>2016</td><td>Prevalence      </td><td>       0.0021</td><td>10.52631579</td><td>Medicare beneficiaries: United States</td></tr>\n",
       "\t<tr><td>2016</td><td>Total_Enrollment</td><td>33251934.0000</td><td> 1.28743926</td><td>Medicare beneficiaries: United States</td></tr>\n",
       "\t<tr><td>2017</td><td>Prevalence      </td><td>       0.0024</td><td>14.28571429</td><td>Medicare beneficiaries: United States</td></tr>\n",
       "\t<tr><td>2017</td><td>Total_Enrollment</td><td>33103075.0000</td><td>-0.44767020</td><td>Medicare beneficiaries: United States</td></tr>\n",
       "\t<tr><td>2018</td><td>Prevalence      </td><td>       0.0026</td><td> 8.33333333</td><td>Medicare beneficiaries: United States</td></tr>\n",
       "\t<tr><td>2018</td><td>Total_Enrollment</td><td>32917866.0000</td><td>-0.55949183</td><td>Medicare beneficiaries: United States</td></tr>\n",
       "\t<tr><td>2013</td><td>Prevalence      </td><td>       0.0020</td><td>         NA</td><td>Medicare beneficiaries: New Jersey   </td></tr>\n",
       "\t<tr><td>2013</td><td>Total_Enrollment</td><td> 1049338.0000</td><td>         NA</td><td>Medicare beneficiaries: New Jersey   </td></tr>\n",
       "\t<tr><td>2014</td><td>Prevalence      </td><td>       0.0023</td><td>15.00000000</td><td>Medicare beneficiaries: New Jersey   </td></tr>\n",
       "\t<tr><td>2014</td><td>Total_Enrollment</td><td> 1083154.0000</td><td> 3.22260320</td><td>Medicare beneficiaries: New Jersey   </td></tr>\n",
       "\t<tr><td>2015</td><td>Prevalence      </td><td>       0.0025</td><td> 8.69565217</td><td>Medicare beneficiaries: New Jersey   </td></tr>\n",
       "\t<tr><td>2015</td><td>Total_Enrollment</td><td> 1104477.0000</td><td> 1.96860280</td><td>Medicare beneficiaries: New Jersey   </td></tr>\n",
       "\t<tr><td>2016</td><td>Prevalence      </td><td>       0.0030</td><td>20.00000000</td><td>Medicare beneficiaries: New Jersey   </td></tr>\n",
       "\t<tr><td>2016</td><td>Total_Enrollment</td><td> 1105091.0000</td><td> 0.05559192</td><td>Medicare beneficiaries: New Jersey   </td></tr>\n",
       "\t<tr><td>2017</td><td>Prevalence      </td><td>       0.0033</td><td>10.00000000</td><td>Medicare beneficiaries: New Jersey   </td></tr>\n",
       "\t<tr><td>2017</td><td>Total_Enrollment</td><td> 1042780.0000</td><td>-5.63854017</td><td>Medicare beneficiaries: New Jersey   </td></tr>\n",
       "\t<tr><td>2018</td><td>Prevalence      </td><td>       0.0035</td><td> 6.06060606</td><td>Medicare beneficiaries: New Jersey   </td></tr>\n",
       "\t<tr><td>2018</td><td>Total_Enrollment</td><td> 1035766.0000</td><td>-0.67262510</td><td>Medicare beneficiaries: New Jersey   </td></tr>\n",
       "</tbody>\n",
       "</table>\n"
      ],
      "text/latex": [
       "A grouped\\_df: 24 × 5\n",
       "\\begin{tabular}{lllll}\n",
       " Year & variable & value & pctChg & group\\\\\n",
       " <chr> & <chr> & <dbl> & <dbl> & <chr>\\\\\n",
       "\\hline\n",
       "\t 2013 & Prevalence       &        0.0015 &          NA & Medicare beneficiaries: United States\\\\\n",
       "\t 2013 & Total\\_Enrollment & 32683237.0000 &          NA & Medicare beneficiaries: United States\\\\\n",
       "\t 2014 & Prevalence       &        0.0017 & 13.33333333 & Medicare beneficiaries: United States\\\\\n",
       "\t 2014 & Total\\_Enrollment & 32730481.0000 &  0.14455117 & Medicare beneficiaries: United States\\\\\n",
       "\t 2015 & Prevalence       &        0.0019 & 11.76470588 & Medicare beneficiaries: United States\\\\\n",
       "\t 2015 & Total\\_Enrollment & 32829277.0000 &  0.30184708 & Medicare beneficiaries: United States\\\\\n",
       "\t 2016 & Prevalence       &        0.0021 & 10.52631579 & Medicare beneficiaries: United States\\\\\n",
       "\t 2016 & Total\\_Enrollment & 33251934.0000 &  1.28743926 & Medicare beneficiaries: United States\\\\\n",
       "\t 2017 & Prevalence       &        0.0024 & 14.28571429 & Medicare beneficiaries: United States\\\\\n",
       "\t 2017 & Total\\_Enrollment & 33103075.0000 & -0.44767020 & Medicare beneficiaries: United States\\\\\n",
       "\t 2018 & Prevalence       &        0.0026 &  8.33333333 & Medicare beneficiaries: United States\\\\\n",
       "\t 2018 & Total\\_Enrollment & 32917866.0000 & -0.55949183 & Medicare beneficiaries: United States\\\\\n",
       "\t 2013 & Prevalence       &        0.0020 &          NA & Medicare beneficiaries: New Jersey   \\\\\n",
       "\t 2013 & Total\\_Enrollment &  1049338.0000 &          NA & Medicare beneficiaries: New Jersey   \\\\\n",
       "\t 2014 & Prevalence       &        0.0023 & 15.00000000 & Medicare beneficiaries: New Jersey   \\\\\n",
       "\t 2014 & Total\\_Enrollment &  1083154.0000 &  3.22260320 & Medicare beneficiaries: New Jersey   \\\\\n",
       "\t 2015 & Prevalence       &        0.0025 &  8.69565217 & Medicare beneficiaries: New Jersey   \\\\\n",
       "\t 2015 & Total\\_Enrollment &  1104477.0000 &  1.96860280 & Medicare beneficiaries: New Jersey   \\\\\n",
       "\t 2016 & Prevalence       &        0.0030 & 20.00000000 & Medicare beneficiaries: New Jersey   \\\\\n",
       "\t 2016 & Total\\_Enrollment &  1105091.0000 &  0.05559192 & Medicare beneficiaries: New Jersey   \\\\\n",
       "\t 2017 & Prevalence       &        0.0033 & 10.00000000 & Medicare beneficiaries: New Jersey   \\\\\n",
       "\t 2017 & Total\\_Enrollment &  1042780.0000 & -5.63854017 & Medicare beneficiaries: New Jersey   \\\\\n",
       "\t 2018 & Prevalence       &        0.0035 &  6.06060606 & Medicare beneficiaries: New Jersey   \\\\\n",
       "\t 2018 & Total\\_Enrollment &  1035766.0000 & -0.67262510 & Medicare beneficiaries: New Jersey   \\\\\n",
       "\\end{tabular}\n"
      ],
      "text/markdown": [
       "\n",
       "A grouped_df: 24 × 5\n",
       "\n",
       "| Year &lt;chr&gt; | variable &lt;chr&gt; | value &lt;dbl&gt; | pctChg &lt;dbl&gt; | group &lt;chr&gt; |\n",
       "|---|---|---|---|---|\n",
       "| 2013 | Prevalence       |        0.0015 |          NA | Medicare beneficiaries: United States |\n",
       "| 2013 | Total_Enrollment | 32683237.0000 |          NA | Medicare beneficiaries: United States |\n",
       "| 2014 | Prevalence       |        0.0017 | 13.33333333 | Medicare beneficiaries: United States |\n",
       "| 2014 | Total_Enrollment | 32730481.0000 |  0.14455117 | Medicare beneficiaries: United States |\n",
       "| 2015 | Prevalence       |        0.0019 | 11.76470588 | Medicare beneficiaries: United States |\n",
       "| 2015 | Total_Enrollment | 32829277.0000 |  0.30184708 | Medicare beneficiaries: United States |\n",
       "| 2016 | Prevalence       |        0.0021 | 10.52631579 | Medicare beneficiaries: United States |\n",
       "| 2016 | Total_Enrollment | 33251934.0000 |  1.28743926 | Medicare beneficiaries: United States |\n",
       "| 2017 | Prevalence       |        0.0024 | 14.28571429 | Medicare beneficiaries: United States |\n",
       "| 2017 | Total_Enrollment | 33103075.0000 | -0.44767020 | Medicare beneficiaries: United States |\n",
       "| 2018 | Prevalence       |        0.0026 |  8.33333333 | Medicare beneficiaries: United States |\n",
       "| 2018 | Total_Enrollment | 32917866.0000 | -0.55949183 | Medicare beneficiaries: United States |\n",
       "| 2013 | Prevalence       |        0.0020 |          NA | Medicare beneficiaries: New Jersey    |\n",
       "| 2013 | Total_Enrollment |  1049338.0000 |          NA | Medicare beneficiaries: New Jersey    |\n",
       "| 2014 | Prevalence       |        0.0023 | 15.00000000 | Medicare beneficiaries: New Jersey    |\n",
       "| 2014 | Total_Enrollment |  1083154.0000 |  3.22260320 | Medicare beneficiaries: New Jersey    |\n",
       "| 2015 | Prevalence       |        0.0025 |  8.69565217 | Medicare beneficiaries: New Jersey    |\n",
       "| 2015 | Total_Enrollment |  1104477.0000 |  1.96860280 | Medicare beneficiaries: New Jersey    |\n",
       "| 2016 | Prevalence       |        0.0030 | 20.00000000 | Medicare beneficiaries: New Jersey    |\n",
       "| 2016 | Total_Enrollment |  1105091.0000 |  0.05559192 | Medicare beneficiaries: New Jersey    |\n",
       "| 2017 | Prevalence       |        0.0033 | 10.00000000 | Medicare beneficiaries: New Jersey    |\n",
       "| 2017 | Total_Enrollment |  1042780.0000 | -5.63854017 | Medicare beneficiaries: New Jersey    |\n",
       "| 2018 | Prevalence       |        0.0035 |  6.06060606 | Medicare beneficiaries: New Jersey    |\n",
       "| 2018 | Total_Enrollment |  1035766.0000 | -0.67262510 | Medicare beneficiaries: New Jersey    |\n",
       "\n"
      ],
      "text/plain": [
       "   Year variable         value         pctChg     \n",
       "1  2013 Prevalence              0.0015          NA\n",
       "2  2013 Total_Enrollment 32683237.0000          NA\n",
       "3  2014 Prevalence              0.0017 13.33333333\n",
       "4  2014 Total_Enrollment 32730481.0000  0.14455117\n",
       "5  2015 Prevalence              0.0019 11.76470588\n",
       "6  2015 Total_Enrollment 32829277.0000  0.30184708\n",
       "7  2016 Prevalence              0.0021 10.52631579\n",
       "8  2016 Total_Enrollment 33251934.0000  1.28743926\n",
       "9  2017 Prevalence              0.0024 14.28571429\n",
       "10 2017 Total_Enrollment 33103075.0000 -0.44767020\n",
       "11 2018 Prevalence              0.0026  8.33333333\n",
       "12 2018 Total_Enrollment 32917866.0000 -0.55949183\n",
       "13 2013 Prevalence              0.0020          NA\n",
       "14 2013 Total_Enrollment  1049338.0000          NA\n",
       "15 2014 Prevalence              0.0023 15.00000000\n",
       "16 2014 Total_Enrollment  1083154.0000  3.22260320\n",
       "17 2015 Prevalence              0.0025  8.69565217\n",
       "18 2015 Total_Enrollment  1104477.0000  1.96860280\n",
       "19 2016 Prevalence              0.0030 20.00000000\n",
       "20 2016 Total_Enrollment  1105091.0000  0.05559192\n",
       "21 2017 Prevalence              0.0033 10.00000000\n",
       "22 2017 Total_Enrollment  1042780.0000 -5.63854017\n",
       "23 2018 Prevalence              0.0035  6.06060606\n",
       "24 2018 Total_Enrollment  1035766.0000 -0.67262510\n",
       "   group                                \n",
       "1  Medicare beneficiaries: United States\n",
       "2  Medicare beneficiaries: United States\n",
       "3  Medicare beneficiaries: United States\n",
       "4  Medicare beneficiaries: United States\n",
       "5  Medicare beneficiaries: United States\n",
       "6  Medicare beneficiaries: United States\n",
       "7  Medicare beneficiaries: United States\n",
       "8  Medicare beneficiaries: United States\n",
       "9  Medicare beneficiaries: United States\n",
       "10 Medicare beneficiaries: United States\n",
       "11 Medicare beneficiaries: United States\n",
       "12 Medicare beneficiaries: United States\n",
       "13 Medicare beneficiaries: New Jersey   \n",
       "14 Medicare beneficiaries: New Jersey   \n",
       "15 Medicare beneficiaries: New Jersey   \n",
       "16 Medicare beneficiaries: New Jersey   \n",
       "17 Medicare beneficiaries: New Jersey   \n",
       "18 Medicare beneficiaries: New Jersey   \n",
       "19 Medicare beneficiaries: New Jersey   \n",
       "20 Medicare beneficiaries: New Jersey   \n",
       "21 Medicare beneficiaries: New Jersey   \n",
       "22 Medicare beneficiaries: New Jersey   \n",
       "23 Medicare beneficiaries: New Jersey   \n",
       "24 Medicare beneficiaries: New Jersey   "
      ]
     },
     "metadata": {},
     "output_type": "display_data"
    },
    {
     "name": "stderr",
     "output_type": "stream",
     "text": [
      "Warning message:\n",
      "\"\u001b[1m\u001b[22mRemoved 4 rows containing missing values (`geom_bar()`).\"\n",
      "Warning message:\n",
      "\"\u001b[1m\u001b[22mRemoved 4 rows containing missing values (`geom_text()`).\"\n"
     ]
    },
    {
     "data": {
      "image/png": "[encoded data removed]",
      "text/plain": [
       "plot without title"
      ]
     },
     "metadata": {
      "image/png": {
       "height": 420,
       "width": 420
      }
     },
     "output_type": "display_data"
    }
   ],
   "source": [
    "# Filter for specific variables (i.e., prevalence and total enrollment)\n",
    "long <- subset(long, long$variable == \"Prevalence\" | long$variable == \"Total_Enrollment\")\n",
    "longNJ <- subset(longNJ, longNJ$variable == \"Prevalence\" | longNJ$variable == \"Total_Enrollment\")\n",
    "\n",
    "long <- long %>%\n",
    "    group_by(variable) %>%\n",
    "    arrange(Year) %>%\n",
    "    mutate(pctChg = 100 * (value - lag(value))  / lag(value))\n",
    "\n",
    "longNJ <- longNJ %>%\n",
    "    group_by(variable) %>%\n",
    "    arrange(Year) %>%\n",
    "    mutate(pctChg = 100 * (value - lag(value))  / lag(value))\n",
    "\n",
    "# Add a group identifier and merge the two data sets\n",
    "long$group <- \"Medicare beneficiaries: United States\"\n",
    "longNJ$group <- \"Medicare beneficiaries: New Jersey\"\n",
    "all <- rbind(long, longNJ)\n",
    "all\n",
    "\n",
    "# Create a split chart: New Jersey vs. United States\n",
    "ggplot(data = all, aes(x = Year, y = pctChg)) +\n",
    "    geom_bar(aes(fill = variable), stat = \"identity\", position = position_dodge()) +\n",
    "    facet_grid(rows = vars(group)) +\n",
    "    scale_fill_manual(values = c(\"mediumpurple4\", \"#F3E79A\"), labels = c(\"Autism prevalence\", \"Total enrollment in Original Medicare\")) +\n",
    "    xlim(c(\"2014\", \"2015\", \"2016\", \"2017\", \"2018\")) +\n",
    "    ylim(c(-6, 24)) +\n",
    "    ylab(\"Percent Change From Previous Year\") +\n",
    "    geom_text(aes(label = sprintf(\"%0.2f\", pctChg)), position = position_dodge2(width = 0.9, preserve = \"single\"), vjust = -1, color = \"black\", size = 2.5) +\n",
    "    guides(fill = guide_legend(title = \"Measure\")) +\n",
    "    ggtitle(\"Percent Change Over Time: 2013 to 2018\") +\n",
    "    theme(legend.position = \"bottom\", panel.grid.major = element_blank(), panel.grid.minor = element_blank(), legend.title = element_text(size=rel(1.25)), legend.text = element_text(size=rel(1)), plot.title = element_text(hjust = 0.5, size = rel(1.65)), text = element_text(color = \"black\")) +\n",
    "    theme(plot.margin = margin(0.25, 0.25, 0.25, 0.5, \"cm\"))\n",
    "\n",
    "# ggsave(\"Percent change in autism prevalence and total enrollment in Original Medicare enrollment - United States and New Jersey, 2013 to 2018.png\", width = 7.67, height = 5.75, units = \"in\", dpi = 300)"
   ]
  },
  {
   "cell_type": "code",
   "execution_count": 17,
   "metadata": {
    "vscode": {
     "languageId": "r"
    }
   },
   "outputs": [
    {
     "name": "stderr",
     "output_type": "stream",
     "text": [
      "\u001b[1mRows: \u001b[22m\u001b[34m33\u001b[39m \u001b[1mColumns: \u001b[22m\u001b[34m3\u001b[39m\n",
      "\u001b[36m──\u001b[39m \u001b[1mColumn specification\u001b[22m \u001b[36m────────────────────────────────────────────────────────\u001b[39m\n",
      "\u001b[1mDelimiter:\u001b[22m \",\"\n",
      "\u001b[31mchr\u001b[39m (1): Area\n",
      "\u001b[32mdbl\u001b[39m (2): Year, Prevalence (%)\n",
      "\n",
      "\u001b[36mℹ\u001b[39m Use `spec()` to retrieve the full column specification for this data.\n",
      "\u001b[36mℹ\u001b[39m Specify the column types or set `show_col_types = FALSE` to quiet this message.\n"
     ]
    },
    {
     "data": {
      "text/html": [
       "<table class=\"dataframe\">\n",
       "<caption>A grouped_df: 14 × 4</caption>\n",
       "<thead>\n",
       "\t<tr><th scope=col>Source</th><th scope=col>Year</th><th scope=col>Prevalence (%)</th><th scope=col>pctChg</th></tr>\n",
       "\t<tr><th scope=col>&lt;chr&gt;</th><th scope=col>&lt;dbl&gt;</th><th scope=col>&lt;dbl&gt;</th><th scope=col>&lt;dbl&gt;</th></tr>\n",
       "</thead>\n",
       "<tbody>\n",
       "\t<tr><td>ADDM Network (CDC)                        </td><td>2006</td><td>0.90</td><td>       NA</td></tr>\n",
       "\t<tr><td>National (Original Medicare beneficiaries)</td><td>2008</td><td>0.08</td><td>       NA</td></tr>\n",
       "\t<tr><td>ADDM Network (CDC)                        </td><td>2008</td><td>1.13</td><td>25.555556</td></tr>\n",
       "\t<tr><td>National (Original Medicare beneficiaries)</td><td>2010</td><td>0.11</td><td>37.500000</td></tr>\n",
       "\t<tr><td>ADDM Network (CDC)                        </td><td>2010</td><td>1.47</td><td>30.088496</td></tr>\n",
       "\t<tr><td>National (Original Medicare beneficiaries)</td><td>2012</td><td>0.13</td><td>18.181818</td></tr>\n",
       "\t<tr><td>ADDM Network (CDC)                        </td><td>2012</td><td>1.45</td><td>-1.360544</td></tr>\n",
       "\t<tr><td>National (Original Medicare beneficiaries)</td><td>2014</td><td>0.17</td><td>30.769231</td></tr>\n",
       "\t<tr><td>ADDM Network (CDC)                        </td><td>2014</td><td>1.68</td><td>15.862069</td></tr>\n",
       "\t<tr><td>National (Original Medicare beneficiaries)</td><td>2016</td><td>0.21</td><td>23.529412</td></tr>\n",
       "\t<tr><td>ADDM Network (CDC)                        </td><td>2016</td><td>1.85</td><td>10.119048</td></tr>\n",
       "\t<tr><td>National (Original Medicare beneficiaries)</td><td>2018</td><td>0.26</td><td>23.809524</td></tr>\n",
       "\t<tr><td>ADDM Network (CDC)                        </td><td>2018</td><td>2.30</td><td>24.324324</td></tr>\n",
       "\t<tr><td>ADDM Network (CDC)                        </td><td>2020</td><td>2.76</td><td>20.000000</td></tr>\n",
       "</tbody>\n",
       "</table>\n"
      ],
      "text/latex": [
       "A grouped\\_df: 14 × 4\n",
       "\\begin{tabular}{llll}\n",
       " Source & Year & Prevalence (\\%) & pctChg\\\\\n",
       " <chr> & <dbl> & <dbl> & <dbl>\\\\\n",
       "\\hline\n",
       "\t ADDM Network (CDC)                         & 2006 & 0.90 &        NA\\\\\n",
       "\t National (Original Medicare beneficiaries) & 2008 & 0.08 &        NA\\\\\n",
       "\t ADDM Network (CDC)                         & 2008 & 1.13 & 25.555556\\\\\n",
       "\t National (Original Medicare beneficiaries) & 2010 & 0.11 & 37.500000\\\\\n",
       "\t ADDM Network (CDC)                         & 2010 & 1.47 & 30.088496\\\\\n",
       "\t National (Original Medicare beneficiaries) & 2012 & 0.13 & 18.181818\\\\\n",
       "\t ADDM Network (CDC)                         & 2012 & 1.45 & -1.360544\\\\\n",
       "\t National (Original Medicare beneficiaries) & 2014 & 0.17 & 30.769231\\\\\n",
       "\t ADDM Network (CDC)                         & 2014 & 1.68 & 15.862069\\\\\n",
       "\t National (Original Medicare beneficiaries) & 2016 & 0.21 & 23.529412\\\\\n",
       "\t ADDM Network (CDC)                         & 2016 & 1.85 & 10.119048\\\\\n",
       "\t National (Original Medicare beneficiaries) & 2018 & 0.26 & 23.809524\\\\\n",
       "\t ADDM Network (CDC)                         & 2018 & 2.30 & 24.324324\\\\\n",
       "\t ADDM Network (CDC)                         & 2020 & 2.76 & 20.000000\\\\\n",
       "\\end{tabular}\n"
      ],
      "text/markdown": [
       "\n",
       "A grouped_df: 14 × 4\n",
       "\n",
       "| Source &lt;chr&gt; | Year &lt;dbl&gt; | Prevalence (%) &lt;dbl&gt; | pctChg &lt;dbl&gt; |\n",
       "|---|---|---|---|\n",
       "| ADDM Network (CDC)                         | 2006 | 0.90 |        NA |\n",
       "| National (Original Medicare beneficiaries) | 2008 | 0.08 |        NA |\n",
       "| ADDM Network (CDC)                         | 2008 | 1.13 | 25.555556 |\n",
       "| National (Original Medicare beneficiaries) | 2010 | 0.11 | 37.500000 |\n",
       "| ADDM Network (CDC)                         | 2010 | 1.47 | 30.088496 |\n",
       "| National (Original Medicare beneficiaries) | 2012 | 0.13 | 18.181818 |\n",
       "| ADDM Network (CDC)                         | 2012 | 1.45 | -1.360544 |\n",
       "| National (Original Medicare beneficiaries) | 2014 | 0.17 | 30.769231 |\n",
       "| ADDM Network (CDC)                         | 2014 | 1.68 | 15.862069 |\n",
       "| National (Original Medicare beneficiaries) | 2016 | 0.21 | 23.529412 |\n",
       "| ADDM Network (CDC)                         | 2016 | 1.85 | 10.119048 |\n",
       "| National (Original Medicare beneficiaries) | 2018 | 0.26 | 23.809524 |\n",
       "| ADDM Network (CDC)                         | 2018 | 2.30 | 24.324324 |\n",
       "| ADDM Network (CDC)                         | 2020 | 2.76 | 20.000000 |\n",
       "\n"
      ],
      "text/plain": [
       "   Source                                     Year Prevalence (%) pctChg   \n",
       "1  ADDM Network (CDC)                         2006 0.90                  NA\n",
       "2  National (Original Medicare beneficiaries) 2008 0.08                  NA\n",
       "3  ADDM Network (CDC)                         2008 1.13           25.555556\n",
       "4  National (Original Medicare beneficiaries) 2010 0.11           37.500000\n",
       "5  ADDM Network (CDC)                         2010 1.47           30.088496\n",
       "6  National (Original Medicare beneficiaries) 2012 0.13           18.181818\n",
       "7  ADDM Network (CDC)                         2012 1.45           -1.360544\n",
       "8  National (Original Medicare beneficiaries) 2014 0.17           30.769231\n",
       "9  ADDM Network (CDC)                         2014 1.68           15.862069\n",
       "10 National (Original Medicare beneficiaries) 2016 0.21           23.529412\n",
       "11 ADDM Network (CDC)                         2016 1.85           10.119048\n",
       "12 National (Original Medicare beneficiaries) 2018 0.26           23.809524\n",
       "13 ADDM Network (CDC)                         2018 2.30           24.324324\n",
       "14 ADDM Network (CDC)                         2020 2.76           20.000000"
      ]
     },
     "metadata": {},
     "output_type": "display_data"
    },
    {
     "name": "stderr",
     "output_type": "stream",
     "text": [
      "Warning message:\n",
      "\"\u001b[1m\u001b[22mRemoved 5 rows containing missing values (`geom_bar()`).\"\n",
      "Warning message:\n",
      "\"\u001b[1m\u001b[22mRemoved 5 rows containing missing values (`geom_text()`).\"\n"
     ]
    },
    {
     "data": {
      "image/png": "[encoded data removed]",
      "text/plain": [
       "plot without title"
      ]
     },
     "metadata": {
      "image/png": {
       "height": 420,
       "width": 420
      }
     },
     "output_type": "display_data"
    }
   ],
   "source": [
    "# Import autism prevalence estimates from CMS (Original Medicare population) and CDC (ADDM Network)\n",
    "data <- read_csv(\"./Data/Autism prevalence comparison - New Jersey versus national.csv\")\n",
    "\n",
    "# Split data into two groups\n",
    "vs <- subset(data, data$Area == \"National (Original Medicare beneficiaries)\" | data$Area == \"New Jersey (Original Medicare beneficiaries)\")\n",
    "national <- subset(data, data$Area == \"National (Original Medicare beneficiaries)\" | data$Area == \"ADDM Network (CDC)\")\n",
    "\n",
    "names(national) <- c(\"Source\", \"Year\", \"Prevalence (%)\")\n",
    "\n",
    "# Keep only data from every other year to align with ADDM Network\n",
    "longComparison <- subset(national, national$Year == 2006 | national$Year == 2008 | national$Year == 2010 | national$Year == 2012 | national$Year == 2014 | national$Year == 2016 | national$Year == 2018 | national$Year == 2020)\n",
    "\n",
    "longComparison <- longComparison %>%\n",
    "    group_by(Source) %>%\n",
    "    arrange(Year) %>%\n",
    "    mutate(pctChg = 100 * (`Prevalence (%)` - lag(`Prevalence (%)`))  / lag(`Prevalence (%)`))\n",
    "\n",
    "longComparison\n",
    "\n",
    "# Make a bar chart for the years 2006 to 2018 (i.e., x-axis goes from 2008 to 2018)\n",
    "longComparison$Year <- as.character(longComparison$Year)\n",
    "\n",
    "ggplot(data = longComparison, aes(x = Year, y = pctChg, group = Source)) +\n",
    "    geom_bar(aes(group = Source, fill = Source), stat = \"identity\", position = position_dodge()) +\n",
    "    scale_fill_manual(values = c(\"#00BFC4\", \"mediumpurple4\"), labels = c(\"Autism and Developmental Disabilities Monitoring (ADDM) Network (CDC)\", \"Original Medicare (CMS)\")) +\n",
    "    xlim(c(\"2008\", \"2010\", \"2012\", \"2014\", \"2016\", \"2018\")) +\n",
    "    ylim(c(-6, 40)) +\n",
    "    ylab(\"Percent Change From Two Years Prior\") +\n",
    "    geom_text(aes(label = sprintf(\"%0.2f\", pctChg)), position = position_dodge2(width = 0.9, preserve = \"single\"), vjust = -0.5, color = \"black\", size = 2.5) +\n",
    "    ggtitle(\"Percent Change Over Time Compared to the ADDM Network: 2008 to 2018\") +\n",
    "    theme(legend.position = \"bottom\", panel.grid.major = element_blank(), panel.grid.minor = element_blank(), legend.title = element_text(size=rel(1.25)), legend.text = element_text(size=rel(1)), plot.title = element_text(hjust = 0.5, size = rel(1.65)), text = element_text(color = \"black\")) +\n",
    "    theme(plot.margin = margin(0.25, 0.25, 0.25, 0.5, \"cm\"))\n",
    "\n",
    "# ggsave(\"Prevalence comparison - Percent change in ADDM Network and CMS, 2008 to 2018.png\", width = 10, height = 5.75, units = \"in\", dpi = 300)"
   ]
  },
  {
   "attachments": {},
   "cell_type": "markdown",
   "metadata": {},
   "source": [
    "## National prevalence over time by age group"
   ]
  },
  {
   "cell_type": "code",
   "execution_count": 18,
   "metadata": {
    "vscode": {
     "languageId": "r"
    }
   },
   "outputs": [
    {
     "name": "stderr",
     "output_type": "stream",
     "text": [
      "\u001b[1mRows: \u001b[22m\u001b[34m36\u001b[39m \u001b[1mColumns: \u001b[22m\u001b[34m13\u001b[39m\n",
      "\u001b[36m──\u001b[39m \u001b[1mColumn specification\u001b[22m \u001b[36m────────────────────────────────────────────────────────\u001b[39m\n",
      "\u001b[1mDelimiter:\u001b[22m \",\"\n",
      "\u001b[31mchr\u001b[39m (6): Bene_Geo_Lvl, Bene_Geo_Desc, Bene_Age_Lvl, Bene_Demo_Lvl, Bene_Demo...\n",
      "\u001b[32mdbl\u001b[39m (6): Year, Prvlnc, Tot_Mdcr_Stdzd_Pymt_PC, Tot_Mdcr_Pymt_PC, Hosp_Readms...\n",
      "\u001b[33mlgl\u001b[39m (1): Bene_Geo_Cd\n",
      "\n",
      "\u001b[36mℹ\u001b[39m Use `spec()` to retrieve the full column specification for this data.\n",
      "\u001b[36mℹ\u001b[39m Specify the column types or set `show_col_types = FALSE` to quiet this message.\n"
     ]
    },
    {
     "data": {
      "image/png": "[encoded data removed]",
      "text/plain": [
       "plot without title"
      ]
     },
     "metadata": {
      "image/png": {
       "height": 420,
       "width": 420
      }
     },
     "output_type": "display_data"
    }
   ],
   "source": [
    "ageData <- read_csv(\"./data/Data related to autism (ASD) among Original Medicare beneficiaries by age group - National, 2007 to 2018.csv\")\n",
    "\n",
    "ageData$Prevalence <- ageData$Prvlnc * 100\n",
    "\n",
    "ggplot(data = ageData, aes(x = Year, y = Prevalence, group = Bene_Age_Lvl, color = Bene_Age_Lvl)) +\n",
    "    geom_line() +\n",
    "    geom_point() +\n",
    "    geom_text(aes(label = sprintf(\"%0.2f\", Prevalence)), vjust = -0.5, color = \"black\", size = 2.5) +\n",
    "    ylim(c(0, 3)) +\n",
    "    ylab(\"Prevalence (%)\") +\n",
    "    ggtitle(\"Prevalence by Age Group\") +\n",
    "    theme(legend.title = element_text(size=rel(1.25)), legend.text = element_text(size=rel(1)), plot.title = element_text(hjust = 0.5, size = rel(1.65)), text = element_text(color = \"black\")) +\n",
    "    guides(color = guide_legend(\"Age Group\")) +\n",
    "    theme(plot.margin = margin(0.25, 0.25, 0.25, 0.5, \"cm\"))\n",
    "\n",
    "# ggsave(\"Prevalence comparison - National by age group, 2007 to 2018.png\", width = 8.67, height = 5, units = \"in\", dpi = 300)"
   ]
  }
 ],
 "metadata": {
  "kernelspec": {
   "display_name": "R",
   "language": "R",
   "name": "ir"
  },
  "language_info": {
   "codemirror_mode": "r",
   "file_extension": ".r",
   "mimetype": "text/x-r-source",
   "name": "R",
   "pygments_lexer": "r",
   "version": "4.2.3"
  },
  "orig_nbformat": 4
 },
 "nbformat": 4,
 "nbformat_minor": 2
}
